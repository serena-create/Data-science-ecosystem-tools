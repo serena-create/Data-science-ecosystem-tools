{
  "nbformat": 4,
  "nbformat_minor": 0,
  "metadata": {
    "colab": {
      "provenance": []
    },
    "kernelspec": {
      "name": "python3",
      "display_name": "Python 3"
    },
    "language_info": {
      "name": "python"
    }
  },
  "cells": [
    {
      "cell_type": "markdown",
      "source": [
        "# Data Science Tools and Ecosystem"
      ],
      "metadata": {
        "id": "ZJfurcOvZiDX"
      }
    },
    {
      "cell_type": "markdown",
      "source": [
        "In this notebook, Data Science Tools and Ecosystem are summarized."
      ],
      "metadata": {
        "id": "mNd2H_iAZ6C4"
      }
    },
    {
      "cell_type": "markdown",
      "source": [
        "### **Objectives**\n",
        "\n",
        "- List popular languages used by data scientists\n",
        "- List some commonly used libraries used by data scientists\n",
        "- List open source data environment tools\n",
        "- Evaluate expressions\n"
      ],
      "metadata": {
        "id": "LcpLfzTGdEi0"
      }
    },
    {
      "cell_type": "markdown",
      "source": [
        "Some of the popular languages that Data Scientists use are:\n",
        "\n",
        "1. Python\n",
        "2. Java\n",
        "3. R"
      ],
      "metadata": {
        "id": "UXPzEhWaaDH-"
      }
    },
    {
      "cell_type": "markdown",
      "source": [
        "Some of the commonly used libraries used by Data Scientists include:\n",
        "\n",
        "1. Pandas\n",
        "2. Numpy\n",
        "3. ggplot\n"
      ],
      "metadata": {
        "id": "ZaklexHXaMOP"
      }
    },
    {
      "cell_type": "markdown",
      "source": [
        "Data Science Tools\n",
        "\n",
        "|Data Science Tools|\n",
        "|------------------|\n",
        "|jupyter notebook  |\n",
        "|Apache spark|\n",
        "|R studio|\n"
      ],
      "metadata": {
        "id": "MaTaNu2iamaX"
      }
    },
    {
      "cell_type": "markdown",
      "source": [
        "### Below are a few examples of evaluating arithmetic expressions in Python"
      ],
      "metadata": {
        "id": "KyIGtU1fcK8P"
      }
    },
    {
      "cell_type": "code",
      "execution_count": 1,
      "metadata": {
        "colab": {
          "base_uri": "https://localhost:8080/"
        },
        "id": "qB8IipzWZaDv",
        "outputId": "77ce18f1-ecbd-478e-a7ef-f493918b9200"
      },
      "outputs": [
        {
          "output_type": "execute_result",
          "data": {
            "text/plain": [
              "17"
            ]
          },
          "metadata": {},
          "execution_count": 1
        }
      ],
      "source": [
        "# This a simple arithmetic expression to mutiply then add integers\n",
        "\n",
        "(3*4)+5"
      ]
    },
    {
      "cell_type": "code",
      "source": [
        "#This will convert 200 minutes to hours by diving by 60.\n",
        "\n",
        "200/60"
      ],
      "metadata": {
        "colab": {
          "base_uri": "https://localhost:8080/"
        },
        "id": "WDsKUffUcg9n",
        "outputId": "0cbe03e2-6a5c-4562-8290-def4e00bca49"
      },
      "execution_count": 2,
      "outputs": [
        {
          "output_type": "execute_result",
          "data": {
            "text/plain": [
              "3.3333333333333335"
            ]
          },
          "metadata": {},
          "execution_count": 2
        }
      ]
    },
    {
      "cell_type": "markdown",
      "source": [
        "## Author\n",
        "Serena Asu Besong Agbor"
      ],
      "metadata": {
        "id": "p3zuOT9ceFOd"
      }
    },
    {
      "cell_type": "code",
      "source": [],
      "metadata": {
        "id": "23dFjo-WeRff"
      },
      "execution_count": null,
      "outputs": []
    }
  ]
}